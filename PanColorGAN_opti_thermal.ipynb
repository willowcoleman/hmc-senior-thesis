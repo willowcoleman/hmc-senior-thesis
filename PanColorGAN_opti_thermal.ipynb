{
  "nbformat": 4,
  "nbformat_minor": 0,
  "metadata": {
    "colab": {
      "name": "PanColorGAN opti-thermal",
      "provenance": [],
      "collapsed_sections": [],
      "include_colab_link": true
    },
    "kernelspec": {
      "name": "python3",
      "display_name": "Python 3"
    },
    "accelerator": "GPU"
  },
  "cells": [
    {
      "cell_type": "markdown",
      "metadata": {
        "id": "view-in-github",
        "colab_type": "text"
      },
      "source": [
        "<a href=\"https://colab.research.google.com/github/willowcoleman/hmc-senior-thesis/blob/main/PanColorGAN_opti_thermal.ipynb\" target=\"_parent\"><img src=\"https://colab.research.google.com/assets/colab-badge.svg\" alt=\"Open In Colab\"/></a>"
      ]
    },
    {
      "cell_type": "markdown",
      "metadata": {
        "id": "PFeSW5bclaH4"
      },
      "source": [
        "# Applying PanColorGAN to thermal-optical patch-pairs\n",
        "\n",
        "**Author: Red Willow Coleman**\n",
        "\n",
        "Last modified: 4/23/2022\n",
        "\n",
        "*Ozcelik, F., Alganci, U., Sertel, E., & Unal, G. (2020). Rethinking CNN-Based Pansharpening: Guided Colorization of Panchromatic Images via GANs. arXiv preprint arXiv:2006.16644.*"
      ]
    },
    {
      "cell_type": "code",
      "metadata": {
        "id": "zknWM6eUEiFv",
        "colab": {
          "base_uri": "https://localhost:8080/"
        },
        "outputId": "21586245-6046-486c-dc33-90b801c75e2f"
      },
      "source": [
        "!git clone https://github.com/ozcelikfu/PanColorGAN.git\n",
        "!cp PanColorGAN/*.py ./\n",
        "!gdown --id 1F4iCyeC_5OXWada3UW780YgXx-63GQno --output PanColorGANRD.pth"
      ],
      "execution_count": 1,
      "outputs": [
        {
          "output_type": "stream",
          "name": "stdout",
          "text": [
            "Cloning into 'PanColorGAN'...\n",
            "remote: Enumerating objects: 175, done.\u001b[K\n",
            "remote: Counting objects: 100% (175/175), done.\u001b[K\n",
            "remote: Compressing objects: 100% (86/86), done.\u001b[K\n",
            "remote: Total 175 (delta 99), reused 155 (delta 85), pack-reused 0\u001b[K\n",
            "Receiving objects: 100% (175/175), 8.53 MiB | 14.37 MiB/s, done.\n",
            "Resolving deltas: 100% (99/99), done.\n",
            "/usr/local/lib/python3.7/dist-packages/gdown/cli.py:131: FutureWarning: Option `--id` was deprecated in version 4.3.1 and will be removed in 5.0. You don't need to pass it anymore to use a file ID.\n",
            "  category=FutureWarning,\n",
            "Downloading...\n",
            "From: https://drive.google.com/uc?id=1F4iCyeC_5OXWada3UW780YgXx-63GQno\n",
            "To: /content/PanColorGANRD.pth\n",
            "100% 32.7M/32.7M [00:00<00:00, 62.2MB/s]\n"
          ]
        }
      ]
    },
    {
      "cell_type": "code",
      "source": [
        "from google.colab import drive\n",
        "drive.mount('/content/drive')"
      ],
      "metadata": {
        "colab": {
          "base_uri": "https://localhost:8080/"
        },
        "id": "AYt9Xh8rJxWX",
        "outputId": "459a2a5d-4120-400a-e9ce-0a70f543ed90"
      },
      "execution_count": 2,
      "outputs": [
        {
          "output_type": "stream",
          "name": "stdout",
          "text": [
            "Mounted at /content/drive\n"
          ]
        }
      ]
    },
    {
      "cell_type": "code",
      "metadata": {
        "id": "-wqAwH0ls9T9",
        "colab": {
          "base_uri": "https://localhost:8080/"
        },
        "outputId": "87fb2559-823d-4ec1-d0c4-a3281bcc51e0"
      },
      "source": [
        "import os\n",
        "import random\n",
        "import pandas as pd\n",
        "import torch\n",
        "import torch.nn as nn\n",
        "import torch.optim as optim\n",
        "from networks import define_G\n",
        "from util import patch_sixteen, divide_sixteen, show_image, scale_range\n",
        "import torch.backends.cudnn as cudnn\n",
        "import numpy as np\n",
        "import matplotlib.pyplot as plt\n",
        "from skimage.transform import resize\n",
        "from zipfile import ZipFile\n",
        "from mpl_toolkits.axes_grid1 import make_axes_locatable\n",
        "from scipy.ndimage import gaussian_filter\n",
        "!pip install sewar\n",
        "from sewar.full_ref import mse, rmse, psnr, uqi, ssim, ergas, scc, rase, sam, msssim, vifp\n",
        "from statistics import mean\n",
        "from scipy.stats import levene \n",
        "from pathlib import Path\n",
        "import imghdr\n",
        "\n",
        "# Allows  tensorflow code to work with torch \n",
        "import tensorflow as tf\n",
        "from tensorflow.python.ops.numpy_ops import np_config \n",
        "np_config.enable_numpy_behavior()\n",
        "\n",
        "%matplotlib inline"
      ],
      "execution_count": 3,
      "outputs": [
        {
          "output_type": "stream",
          "name": "stdout",
          "text": [
            "Collecting sewar\n",
            "  Downloading sewar-0.4.5.tar.gz (11 kB)\n",
            "Requirement already satisfied: numpy in /usr/local/lib/python3.7/dist-packages (from sewar) (1.21.6)\n",
            "Requirement already satisfied: scipy in /usr/local/lib/python3.7/dist-packages (from sewar) (1.4.1)\n",
            "Requirement already satisfied: Pillow in /usr/local/lib/python3.7/dist-packages (from sewar) (7.1.2)\n",
            "Building wheels for collected packages: sewar\n",
            "  Building wheel for sewar (setup.py) ... \u001b[?25l\u001b[?25hdone\n",
            "  Created wheel for sewar: filename=sewar-0.4.5-py3-none-any.whl size=10608 sha256=47a2a96ab1945acb27d7dfb206e3b576d7f6e7fae3e2fbd2b553ccaadaa4fe97\n",
            "  Stored in directory: /root/.cache/pip/wheels/7a/38/6b/d066cfcb2b1c1c9b059b9ce1bdc4803b469359214e8dad4e3e\n",
            "Successfully built sewar\n",
            "Installing collected packages: sewar\n",
            "Successfully installed sewar-0.4.5\n"
          ]
        }
      ]
    },
    {
      "cell_type": "code",
      "source": [
        "## Load in zipped training data sets \n",
        "train_zip = '/content/drive/MyDrive/Colab Notebooks/HMC Thesis/train_128_norm.zip'\n",
        "test_zip = '/content/drive/MyDrive/Colab Notebooks/HMC Thesis/test_128_norm.zip'\n",
        "\n",
        "# Extract all zipped files to /Retiled_128 dir in Drive\n",
        "with ZipFile(train_zip, 'r') as zip_f:\n",
        "  print('Extracting all TRAINING files now...')\n",
        "  zip_f.extractall()\n",
        "  print('Done!')\n",
        "\n",
        "# Extract all zipped files to /Retiled_256 dir in Drive\n",
        "with ZipFile(test_zip, 'r') as zip_f:\n",
        "  print('Extracting all TESTING files now...')\n",
        "  zip_f.extractall()\n",
        "  print('Done!')\n",
        "  "
      ],
      "metadata": {
        "colab": {
          "base_uri": "https://localhost:8080/"
        },
        "id": "30QFjNHh8vt-",
        "outputId": "785fd367-a498-472d-e155-c754a0a3fdd3"
      },
      "execution_count": 4,
      "outputs": [
        {
          "output_type": "stream",
          "name": "stdout",
          "text": [
            "Extracting all TRAINING files now...\n",
            "Done!\n",
            "Extracting all TESTING files now...\n",
            "Done!\n"
          ]
        }
      ]
    },
    {
      "cell_type": "markdown",
      "source": [
        "## Check for and delete any corrupted training images ##\n"
      ],
      "metadata": {
        "id": "bsEZgPH49dPj"
      }
    },
    {
      "cell_type": "code",
      "source": [
        "## TEST images ## \n",
        "\n",
        "data_dir = '/content/test_128_norm/' \n",
        "image_extensions = [\".jpeg\"] \n",
        "img_type_accepted_by_tf = [\"bmp\", \"gif\", \"jpeg\", \"png\"]\n",
        "del_list = []\n",
        "\n",
        "for filepath in Path(data_dir).rglob(\"*\"):\n",
        "  if filepath.suffix.lower() in image_extensions:\n",
        "    img_type = imghdr.what(filepath)\n",
        "    if img_type is None:\n",
        "      print(f\"{filepath} is not an image\")\n",
        "      del_list.append(str(filepath))\n",
        "    elif img_type not in img_type_accepted_by_tf:\n",
        "      print(f\"{filepath} is a {img_type}, not accepted by TensorFlow\")\n",
        "      del_list.append(str(filepath))\n",
        "\n",
        "## Delete any files from del_list (not real images)\n",
        "for del_file in del_list: \n",
        "  os.remove(del_file)\n",
        "  print(os.path.basename(del_file), 'deleted')\n",
        "\n",
        "## TRAIN images ## \n",
        "data_dir = '/content/train_128_norm/'\n",
        "del_list = []\n",
        "\n",
        "for filepath in Path(data_dir).rglob(\"*\"):\n",
        "  if filepath.suffix.lower() in image_extensions:\n",
        "    img_type = imghdr.what(filepath)\n",
        "    if img_type is None:\n",
        "      print(f\"{filepath} is not an image\")\n",
        "      del_list.append(str(filepath))\n",
        "    elif img_type not in img_type_accepted_by_tf:\n",
        "      print(f\"{filepath} is a {img_type}, not accepted by TensorFlow\")\n",
        "      del_list.append(str(filepath))\n",
        "\n",
        "## Delete any files from del_list (not real images)\n",
        "for del_file in del_list: \n",
        "  os.remove(del_file)\n",
        "  print(os.path.basename(del_file), 'deleted')\n"
      ],
      "metadata": {
        "id": "TKvKAhrc9SjI",
        "colab": {
          "base_uri": "https://localhost:8080/"
        },
        "outputId": "755f01f3-6818-4a21-daff-8735d45f17ff"
      },
      "execution_count": 5,
      "outputs": [
        {
          "output_type": "stream",
          "name": "stdout",
          "text": [
            "/content/test_128_norm/._test_0_austin_fall_1_3.jpeg is not an image\n",
            "._test_0_austin_fall_1_3.jpeg deleted\n",
            "/content/train_128_norm/._train_0_austin_fall_1_1.jpeg is not an image\n",
            "/content/train_128_norm/._train_0_chicago_spring_1_1.jpeg is not an image\n",
            "._train_0_austin_fall_1_1.jpeg deleted\n",
            "._train_0_chicago_spring_1_1.jpeg deleted\n"
          ]
        }
      ]
    },
    {
      "cell_type": "markdown",
      "source": [
        "## Adapting PanColorGAN pre-trained weights model to work with opti-thermal patch-pairs"
      ],
      "metadata": {
        "id": "06lbz-pH9e3a"
      }
    },
    {
      "cell_type": "code",
      "metadata": {
        "id": "rnKs7NMYLu99",
        "colab": {
          "base_uri": "https://localhost:8080/",
          "height": 226
        },
        "outputId": "83504d51-5d72-4d1c-ba14-33722c950850"
      },
      "source": [
        "## Data Display (RWC)\n",
        "\n",
        "def load(image_file):\n",
        "\n",
        "  # Read and decode an image file to a uint8 tensor\n",
        "  image = tf.io.read_file(image_file)\n",
        "  image = tf.image.decode_jpeg(image)\n",
        "\n",
        "  # Split each image tensor into two tensors:\n",
        "  # (1) LST\n",
        "  # (2) RGB\n",
        "  w = tf.shape(image)[1]\n",
        "  w = w // 2\n",
        "  lst_img = image[:, w:, :]\n",
        "  ms_img = image[:, :w, :]\n",
        "\n",
        "  ms_img = np.stack((ms_img[:,:,0], ms_img[:,:,1], ms_img[:,:,2], ms_img[:,:,2])).T\n",
        "\n",
        "  return ms_img, lst_img\n",
        "\n",
        "def invisible_ax(ax):\n",
        "    \"\"\"\n",
        "    Removes axes labels and tick marks for simple patch-pair visualizations\n",
        "    \"\"\"\n",
        "    ax.xaxis.set_visible(False)\n",
        "    ax.yaxis.set_visible(False)\n",
        "    return ax \n",
        "\n",
        "def plot_side_by_side(ms, lst, pan = None): \n",
        "  r = ms[:,:,0]\n",
        "  g = ms[:,:,1]\n",
        "  b = ms[:,:,2]\n",
        "  rgb_img = np.stack((r,g,b)).T\n",
        "  if pan is not None: \n",
        "    fig, (ax1, ax2, ax3) = plt.subplots(1,3)\n",
        "    ax1 = invisible_ax(ax1)\n",
        "    ax2 = invisible_ax(ax2)\n",
        "    ax3 = invisible_ax(ax3)\n",
        "    im1 = ax1.imshow(rgb_img, cmap = 'Spectral_r')\n",
        "    ax1.set_title('RGB', pad = 20)\n",
        "    im2 = ax2.imshow(lst, cmap='Spectral_r')\n",
        "    ax2.set_title('LST', pad = 20)\n",
        "    im3 = ax3.imshow(pan, cmap='Spectral_r')\n",
        "    ax3.set_title('Sharpened LST', pad = 20)\n",
        "\n",
        "    # divider = make_axes_locatable(ax1)\n",
        "    # cax = divider.append_axes('right', size='5%', pad=0.05)\n",
        "    # fig.colorbar(im1, cax=cax, orientation='vertical')\n",
        "\n",
        "    divider = make_axes_locatable(ax2)\n",
        "    cax = divider.append_axes('right', size='5%', pad=0.05)\n",
        "    fig.colorbar(im2, cax=cax, orientation='vertical');\n",
        "\n",
        "    divider = make_axes_locatable(ax3)\n",
        "    cax = divider.append_axes('right', size='5%', pad=0.05)\n",
        "    fig.colorbar(im3, cax=cax, orientation='vertical');\n",
        "\n",
        "    plt.subplots_adjust(left=0.125, bottom=0.1, right=0.9, top=2, wspace=0.5, hspace=0.2)\n",
        "\n",
        "\n",
        "  else: \n",
        "    fig, (ax1, ax2) = plt.subplots(1,2)\n",
        "    ax1 = invisible_ax(ax1)\n",
        "    ax2 = invisible_ax(ax2)\n",
        "    im1 = ax1.imshow(rgb_img)\n",
        "    ax1.set_title('RGB', pad = 20)\n",
        "    im2 = ax2.imshow(lst[:,:,0], cmap='Spectral_r') \n",
        "    ax2.set_title('LST', pad = 20)\n",
        "\n",
        "    divider = make_axes_locatable(ax1)\n",
        "    cax = divider.append_axes('right', size='5%', pad=0.05)\n",
        "    fig.colorbar(im1, cax=cax, orientation='vertical')\n",
        "\n",
        "    divider = make_axes_locatable(ax2)\n",
        "    cax = divider.append_axes('right', size='5%', pad=0.05)\n",
        "    fig.colorbar(im2, cax=cax, orientation='vertical');\n",
        "\n",
        "    plt.subplots_adjust(left=0.125, bottom=0.1, right=0.9, top=2, wspace=0.5, hspace=0.2)\n",
        "\n",
        "  plt.show()\n",
        "\n",
        "ms, lst = load('/content/test_128_norm/test_0_austin_fall_2_4.jpeg')\n",
        "plot_side_by_side(ms,lst)\n",
        "\n",
        "lst = lst[:,:,0]\n",
        "\n",
        "print(ms.shape)\n",
        "print(lst.shape)"
      ],
      "execution_count": 6,
      "outputs": [
        {
          "output_type": "display_data",
          "data": {
            "text/plain": [
              "<Figure size 432x288 with 4 Axes>"
            ],
            "image/png": "[encoded data removed]"
          },
          "metadata": {
            "needs_background": "light"
          }
        },
        {
          "output_type": "stream",
          "name": "stdout",
          "text": [
            "(128, 128, 4)\n",
            "(128, 128)\n"
          ]
        }
      ]
    },
    {
      "cell_type": "code",
      "metadata": {
        "id": "i5cPqIyvSkK_"
      },
      "source": [
        "## Parameters\n",
        "#@title Parameters { display-mode: \"form\" }\n",
        "reduced_res=True #@param {type:\"boolean\"}\n",
        "use_gpu=True #@param {type:\"boolean\"}"
      ],
      "execution_count": 7,
      "outputs": []
    },
    {
      "cell_type": "code",
      "source": [
        "## Image normalization (RWC)\n",
        "\n",
        "# Normalize images from [-1,1] by tile\n",
        "def normalize_by_tile(ms_img, lst_img): \n",
        "  ms_min = tf.math.reduce_min(ms_img)\n",
        "  ms_max = tf.math.reduce_max(ms_img)\n",
        "  ms_img = (2*(ms_img - ms_min)/(ms_max - ms_min)) - 1 \n",
        "\n",
        "  lst_min = tf.math.reduce_min(lst_img)\n",
        "  lst_max = tf.math.reduce_max(lst_img)\n",
        "  lst_img = (2*(lst_img - lst_min)/(lst_max - lst_min)) - 1 \n",
        "\n",
        "  ms_img = tf.cast(ms_img, tf.float32)\n",
        "  lst_img = tf.cast(lst_img, tf.float32)\n",
        "\n",
        "  return ms_img, lst_img, ms_min, ms_max, lst_min, lst_max\n",
        "\n",
        "# Denormalize images from [-1,1] to [0,255] \n",
        "def denormalize_by_tile(img_min, img_max, norm_img):\n",
        "    return img_min + (0.5)*(img_max - img_min)*(norm_img + 1)\n",
        "\n",
        "# Denormalize images from [0,255] to [Kelvin] using lst_min and lst_max values fromlst_lookup.csv\n",
        "def lst_denormalization(lst_min, lst_max, lst_norm):\n",
        "    lst = lst_min + (lst_norm * (lst_max - lst_min))/255\n",
        "    return lst\n"
      ],
      "metadata": {
        "id": "xLDktRJfSStJ"
      },
      "execution_count": 8,
      "outputs": []
    },
    {
      "cell_type": "code",
      "metadata": {
        "id": "9JAyDg0yqPwn"
      },
      "source": [
        "## Network Preparation\n",
        "model_weights = \"/content/PanColorGANRD.pth\"\n",
        "netG = define_G(5, 4, 32, 'batch','leakyrelu', False, 'ResizeConv', 'colorunet', 'SE', 6, [0], n_downsampling=2)\n",
        "#netG.load_state_dict(torch.load(model_weights, map_location=lambda storage, loc: storage))\n",
        "netG.load_state_dict(torch.load(model_weights))\n",
        "netG.eval()\n",
        "\n",
        "if use_gpu:\n",
        "  netG = netG.cuda()\n",
        "else:\n",
        "  netG = netG.cpu()"
      ],
      "execution_count": 9,
      "outputs": []
    },
    {
      "cell_type": "code",
      "source": [
        "def pansharpen(ms_norm, lst_norm, netG, use_gpu, reduced_res): \n",
        "  if reduced_res:\n",
        "    ms_down = [resize(i,(64,64), 3) for i in ms_norm]\n",
        "    ms_up = [resize(i, (256, 256), 3) for i in ms_down]\n",
        "    ms_norm = np.clip(ms_up,-1.0,1.0)\n",
        "    lst_down = resize(lst_norm, (256, 256), 3)\n",
        "    lst_norm = np.clip(lst_down,-1.0,1.0)\n",
        "  else: \n",
        "    ms_up = [resize(i, (1024, 1024), 3) for i in ms_norm]\n",
        "    ms_norm = np.clip(ms_up,-1.0,1.0)\n",
        "\n",
        "  inp = np.concatenate((ms_norm,np.expand_dims(lst_norm,axis=0)),axis=0)\n",
        "  if not reduced_res:\n",
        "    inp = divide_sixteen(inp)\n",
        "  inp = torch.tensor(inp)\n",
        "\n",
        "  if use_gpu:\n",
        "    out = netG(inp.cuda().view(-1,5,256,256)).detach().cpu().numpy()\n",
        "  else:\n",
        "    out = netG(inp.view(-1,5,256,256)).detach().numpy()\n",
        "\n",
        "  if not reduced_res:\n",
        "    out = patch_sixteen(out)\n",
        "\n",
        "  return out\n"
      ],
      "metadata": {
        "id": "shtsF9HVoob7"
      },
      "execution_count": 10,
      "outputs": []
    },
    {
      "cell_type": "markdown",
      "source": [
        "### Comparing MS and LST values within a single ECOSTRESS pixel"
      ],
      "metadata": {
        "id": "SSJA6PY2e1MF"
      }
    },
    {
      "cell_type": "code",
      "source": [
        "\"\"\"\n",
        "Given the unique indices that we have now saved in ind_dict, it will be possible\n",
        "to compare the variances in ms and avg_gaussian\n",
        "\n",
        "1. Iterate through all 70 m LST pixels one-by-one\n",
        "2. Subset MS 3 m pixels from that unique LST pixel\n",
        "3. Subset avg_gaussian ~3 m pixels from that unique LST pixel \n",
        "4. Compare variances between MS and avg_gaussian\n",
        "\n",
        "Variance calculated using Levene's test because the distributions are not \n",
        "necessarily normal\n",
        "\"\"\"\n",
        "\n",
        "def variance_signficance(ind_dict, ms_flat, gaussian_denorm_flat, f, plot = False):\n",
        "  ms_var = [] # store variance of RGB imagery \n",
        "  gaussian_var = [] # store variance of avg_gaussian\n",
        "\n",
        "  # Iterate through unique LST values\n",
        "  for key in ind_dict: \n",
        "    temp_ms = []\n",
        "    temp_gaussian = []\n",
        "    inds = ind_dict[key]\n",
        "    # Iterate through indices with a unique LST value\n",
        "    for ind in inds: \n",
        "      temp_ms.append(ms_flat[ind])\n",
        "      temp_gaussian.append(gaussian_denorm_flat[ind])\n",
        "    ms_var.append(np.var(temp_ms))\n",
        "    gaussian_var.append(np.var(temp_gaussian))\n",
        "\n",
        "  # Plot distribution of variance of MS and sharpened LST imagery from the same patch-pair\n",
        "  if plot == True: \n",
        "    plt.hist(ms_var, bins = 10, edgecolor = 'black', color = '#43751e')\n",
        "    plt.title(\"Variance of MS image: \" + str(f))\n",
        "    plt.xlabel('Normalized RGB')\n",
        "    plt.ylabel('Frequency')\n",
        "    plt.show()\n",
        "\n",
        "    plt.hist(gaussian_var, bins = 10, edgecolor = 'black', color = '#035a6e')\n",
        "    plt.title(\"Variance of Pansharpened Gaussian-Smoothed LST: \" + str(f))\n",
        "    plt.xlabel('Normalized LST')\n",
        "    plt.ylabel('Frequency')\n",
        "    plt.show()\n",
        "\n",
        "  # If p < 0.05, the populations do not have equal variances \n",
        "  stat, p = levene(ms_var, gaussian_var)\n",
        "\n",
        "  return p\n",
        "\n",
        "\"\"\" \n",
        "Determine what the average value of the pansharpened, gaussian-smoothed LST is \n",
        "within each 70 m ECOSTRESS pixel and return this as a numpy array\n",
        "\"\"\"\n",
        "\n",
        "def calculate_average_of_pixel(ind_dict, gaussian_denorm_flat):\n",
        "  # Iterate through unique LST values\n",
        "  avg_flat = np.zeros(128*128)\n",
        "  for key in ind_dict: \n",
        "    inds = ind_dict[key]\n",
        "    avg_list = []\n",
        "    # Iterate through indices with a unique LST value\n",
        "    for ind in inds: \n",
        "      avg_list.append(gaussian_denorm_flat[ind])\n",
        "    avg_flat[inds] = mean(avg_list)\n",
        "\n",
        "  # Reshape flattened array \n",
        "  avg_gaussian_denorm = avg_flat.reshape(128,128)\n",
        "\n",
        "  return avg_gaussian_denorm\n"
      ],
      "metadata": {
        "id": "iEso8ShBpXNK"
      },
      "execution_count": 11,
      "outputs": []
    },
    {
      "cell_type": "markdown",
      "source": [
        "## Apply pre-trained PanColorGAN model"
      ],
      "metadata": {
        "id": "mtvPajdm0ian"
      }
    },
    {
      "cell_type": "code",
      "source": [
        "# Load in lookup table to denormalize from 0-255 back to Kelvin\n",
        "fpath = '/content/drive/MyDrive/Colab Notebooks/HMC Thesis/lst_lookup.csv'\n",
        "lst_lookup = pd.read_csv(fpath)\n",
        "\n",
        "# Empty lists for image quality metrics \n",
        "rmse_spatial_list = []\n",
        "rmse_spectral_list = []\n",
        "ergas_spatial_list = []\n",
        "ergas_spectral_list = []\n",
        "sam_list = []\n",
        "\n",
        "p_list = [] # Keep track if difference in variances is signficant\n",
        "\n",
        "plot = True\n",
        "\n",
        "# Iterate through training images \n",
        "for f in os.listdir('/content/train_128_norm/')[400:401]:\n",
        "  # Load in training image\n",
        "  # print('File name:', f)\n",
        "  ms, lst = load(os.path.join('/content/train_128_norm', f))\n",
        "  lst = lst[:,:,0] # Reshape\n",
        "\n",
        "  # Normalize iamges from [-1,1]\n",
        "  ms_norm, lst_norm, ms_min, ms_max, lst_min, lst_max = normalize_by_tile(ms, lst)\n",
        "  ms_norm = ms_norm.T \n",
        "\n",
        "  # Apply pre-trained pansharpening network \n",
        "  pan = pansharpen(ms_norm, lst_norm, netG, use_gpu, reduced_res)\n",
        "\n",
        "  # Apply Gaussian blurring to get rid of quilting edge effects\n",
        "  gaussian = gaussian_filter(pan[0,0,:,:], sigma = 5)\n",
        "  gaussian = resize(gaussian, (128,128),3)\n",
        "  pan = resize(pan[0,0,:,:], (128,128), 3)\n",
        "\n",
        "  # Calculate image quality metrics (normalized images)\n",
        "  if gaussian.shape == lst.shape: # Some images are weirdly shaped? \n",
        "    rmse_spectral_list.append(rmse(gaussian, lst_norm))\n",
        "    rmse_spatial_list.append(rmse(gaussian, ms_norm[0,:,:]))\n",
        "    ergas_spectral_list.append(ergas(gaussian, lst_norm))\n",
        "    ergas_spatial_list.append(ergas(gaussian, ms_norm[0,:,:]))\n",
        "    sam_list.append(sam(gaussian, lst_norm))\n",
        "\n",
        "  # Get LST denormalization values from lst_lookup.csv (pre-created during image export)\n",
        "  f_short = f[6:len(f)-5] # Key in lst_lookup, 5:len if test, 6:len if train\n",
        "  lst_min = lst_lookup[f_short][0]\n",
        "  lst_max = lst_lookup[f_short][1] \n",
        "  \n",
        "  # Denormalize LST images ([-1,1] -> [0,255] -> [Kelvin])\n",
        "  pan_denorm_0 = denormalize_by_tile(lst_min, lst_max, pan)\n",
        "  pan_denorm = lst_denormalization(lst_min, lst_max, pan_denorm_0)\n",
        "  gaussian_denorm_0 = denormalize_by_tile(lst_min, lst_max, gaussian)\n",
        "  gaussian_denorm = lst_denormalization(lst_min, lst_max, gaussian_denorm_0)\n",
        "  lst_denorm = lst_denormalization(lst_min, lst_max, lst).numpy()\n",
        "\n",
        "  # Compare MS and LST values within a single ECOSTRESS pixel \n",
        "  lst_denorm = np.around(lst_denorm, 2)\n",
        "\n",
        "  # Flatten arrays \n",
        "  lst_denorm_flat = lst_denorm.flatten()\n",
        "  gaussian_denorm_flat = gaussian_denorm.flatten()\n",
        "  ms_norm_flat = ms_norm.numpy().flatten() # [-1,1]\n",
        "  gaussian_norm_flat = gaussian.flatten() # [-1,1]\n",
        "  pan_denorm_flat = pan_denorm.flatten()\n",
        "\n",
        "  # Save unique LST values and indices in dictionary\n",
        "  ind_dict = {i:np.where(lst_denorm_flat == i)[0] for i in set(lst_denorm_flat)}\n",
        "\n",
        "  # Determine if variance between MS and sharpened within an ECOSTRESS pixel is significant\n",
        "  p = variance_signficance(ind_dict, ms_norm_flat, gaussian_norm_flat, f_short, plot = False)\n",
        "  p_list.append(p)\n",
        "\n",
        "  if plot == True: \n",
        "    avg_gaussian_denorm = calculate_average_of_pixel(ind_dict, gaussian_denorm_flat)\n",
        "    plot_side_by_side(ms, lst_denorm, gaussian_denorm)\n",
        "    # plot_side_by_side(ms, lst_denorm, pan_denorm)\n",
        "\n",
        "# Get percentage of variances that are statistically significant (p < 0.05)\n",
        "sig_frac = (len([ele for ele in p_list if ele < 0.05]) / len(p_list)) * 100\n",
        "print('% of patch-pairs with statistically different variances:', sig_frac)"
      ],
      "metadata": {
        "id": "DPsS2M63pNOC",
        "colab": {
          "base_uri": "https://localhost:8080/",
          "height": 166
        },
        "outputId": "bfb591e4-0af2-420b-8245-a836c9987f58"
      },
      "execution_count": 14,
      "outputs": [
        {
          "output_type": "display_data",
          "data": {
            "text/plain": [
              "<Figure size 432x288 with 5 Axes>"
            ],
            "image/png": "[encoded data removed]"
          },
          "metadata": {
            "needs_background": "light"
          }
        },
        {
          "output_type": "stream",
          "name": "stdout",
          "text": [
            "% of patch-pairs with statistically different variances: 100.0\n"
          ]
        }
      ]
    },
    {
      "cell_type": "code",
      "source": [
        "# Load in lookup table to denormalize from 0-255 back to Kelvin\n",
        "fpath = '/content/drive/MyDrive/Colab Notebooks/HMC Thesis/lst_lookup.csv'\n",
        "lst_lookup = pd.read_csv(fpath)\n",
        "\n",
        "# Determine which sigma value is best by keeping track of if difference in variances is significant\n",
        "sigma_0 = []\n",
        "sigma_2 = []\n",
        "sigma_4 = []\n",
        "sigma_6 = []\n",
        "sigma_8 = []\n",
        "sigma_10 = []\n",
        "\n",
        "plot = False\n",
        "\n",
        "# Iterate through training images \n",
        "for f in os.listdir('/content/test_128_norm/')[0:2000]:\n",
        "  # Load in training image\n",
        "  # print('File name:', f)\n",
        "  ms, lst = load(os.path.join('/content/test_128_norm', f))\n",
        "  lst = lst[:,:,0] # Reshape\n",
        "\n",
        "  # Normalize iamges from [-1,1]\n",
        "  ms_norm, lst_norm, ms_min, ms_max, lst_min, lst_max = normalize_by_tile(ms, lst)\n",
        "  ms_norm = ms_norm.T \n",
        "\n",
        "  # Apply pre-trained pansharpening network \n",
        "  pan = pansharpen(ms_norm, lst_norm, netG, use_gpu, reduced_res)\n",
        "\n",
        "  # Apply Gaussian blurring to get rid of quilting edge effects\n",
        "  gaussian_2 = gaussian_filter(pan[0,0,:,:], sigma = 2)\n",
        "  gaussian_2 = resize(gaussian_2, (128,128),3).flatten()\n",
        "\n",
        "  gaussian_4 = gaussian_filter(pan[0,0,:,:], sigma = 4)\n",
        "  gaussian_4 = resize(gaussian_2, (128,128),3).flatten()\n",
        "\n",
        "  gaussian_6 = gaussian_filter(pan[0,0,:,:], sigma = 6)\n",
        "  gaussian_6 = resize(gaussian_2, (128,128),3).flatten()\n",
        "\n",
        "  gaussian_8 = gaussian_filter(pan[0,0,:,:], sigma = 8)\n",
        "  gaussian_8 = resize(gaussian_2, (128,128),3).flatten()\n",
        "\n",
        "  gaussian_10 = gaussian_filter(pan[0,0,:,:], sigma = 10)\n",
        "  gaussian_10 = resize(gaussian_2, (128,128),3).flatten()\n",
        "\n",
        "  # Get LST denormalization values from lst_lookup.csv (pre-created during image export)\n",
        "  f_short = f[5:len(f)-5] # Key in lst_lookup, 5:len if test, 6:len if train\n",
        "  lst_min = lst_lookup[f_short][0]\n",
        "  lst_max = lst_lookup[f_short][1] \n",
        "  \n",
        "  # Denormalize LST images ([-1,1] -> [0,255] -> [Kelvin])\n",
        "  lst_denorm = lst_denormalization(lst_min, lst_max, lst).numpy()\n",
        "  lst_denorm = np.around(lst_denorm, 2).flatten()\n",
        "\n",
        "  # Save unique LST values and indices in dictionary\n",
        "  ind_dict = {i:np.where(lst_denorm == i)[0] for i in set(lst_denorm)}\n",
        "\n",
        "  # Determine if variance between MS and sharpened within an ECOSTRESS pixel is significant\n",
        "  sigma_0.append(variance_signficance(ind_dict, ms_norm.numpy().flatten(), pan[0,0,:,:].flatten(), f_short, plot = False))\n",
        "  sigma_2.append(variance_signficance(ind_dict, ms_norm.numpy().flatten(), gaussian_2, f_short, plot = False))\n",
        "  sigma_4.append(variance_signficance(ind_dict, ms_norm.numpy().flatten(), gaussian_4, f_short, plot = False))\n",
        "  sigma_6.append(variance_signficance(ind_dict, ms_norm.numpy().flatten(), gaussian_6, f_short, plot = False))\n",
        "  sigma_8.append(variance_signficance(ind_dict, ms_norm.numpy().flatten(), gaussian_8, f_short, plot = False))\n",
        "  sigma_10.append(variance_signficance(ind_dict, ms_norm.numpy().flatten(), gaussian_10, f_short, plot = False))\n",
        "\n",
        "# Get percentage of variances that are statistically significant (p < 0.05)\n",
        "sig_frac_0 = (len([ele for ele in sigma_0 if ele < 0.05]) / len(sigma_0)) * 100\n",
        "print('Sigma = 0, % of patch-pairs with statistically different variances:', sig_frac_0)\n",
        "sig_frac_2 = (len([ele for ele in sigma_2 if ele < 0.05]) / len(sigma_2)) * 100\n",
        "print('Sigma = 2, % of patch-pairs with statistically different variances:', sig_frac_2)\n",
        "sig_frac_4 = (len([ele for ele in sigma_4 if ele < 0.05]) / len(sigma_2)) * 100\n",
        "print('Sigma = 4, % of patch-pairs with statistically different variances:', sig_frac_4)\n",
        "sig_frac_6 = (len([ele for ele in sigma_6 if ele < 0.05]) / len(sigma_2)) * 100\n",
        "print('Sigma = 6, % of patch-pairs with statistically different variances:', sig_frac_6)\n",
        "sig_frac_8 = (len([ele for ele in sigma_8 if ele < 0.05]) / len(sigma_2)) * 100\n",
        "print('Sigma = 8, % of patch-pairs with statistically different variances:', sig_frac_8)\n",
        "sig_frac_10 = (len([ele for ele in sigma_10 if ele < 0.05]) / len(sigma_2)) * 100\n",
        "print('Sigma = 10, % of patch-pairs with statistically different variances:', sig_frac_10)\n"
      ],
      "metadata": {
        "id": "wbd4m8pOfy3j"
      },
      "execution_count": null,
      "outputs": []
    },
    {
      "cell_type": "markdown",
      "source": [
        "## Plotting Image Quality Metrics "
      ],
      "metadata": {
        "id": "eCxVj69A4vT7"
      }
    },
    {
      "cell_type": "code",
      "source": [
        "# Summary statistics of image quality metrics \n",
        "N = len(p_list)\n",
        "plt.hist(rmse_spectral_list, bins = 20, edgecolor = 'black', color = '#870f25')\n",
        "plt.title(str(N) + ' PanColorGAN sharpened test images: RMSE (Spectral Distortion)')\n",
        "plt.xlabel('RMSE (Spectral)')\n",
        "plt.ylabel('Frequency')\n",
        "plt.xlim(0,1.2)\n",
        "plt.ylim(0,700)\n",
        "plt.show()\n",
        "\n",
        "plt.hist(rmse_spatial_list, bins = 20, edgecolor = 'black', color = '#870f25')\n",
        "plt.title(str(N) + ' PanColorGAN sharpened test images: RMSE (Spatial Distortion)')\n",
        "plt.xlabel('RMSE (Spatial)')\n",
        "plt.ylabel('Frequency')\n",
        "plt.xlim(0,1.2)\n",
        "plt.ylim(0,700)\n",
        "plt.show()\n",
        "\n",
        "ergas_spectral_list_f = filter(lambda num: num < np.percentile(ergas_spectral_list, 95), ergas_spectral_list)\n",
        "\n",
        "plt.hist(list(ergas_spectral_list_f), bins = 20, edgecolor = 'black', color = '#035a6e')\n",
        "plt.title(str(N) + ' PanColorGAN sharpened test images: ERGAS (Spectral Quality)')\n",
        "plt.xlabel('ERGAS (Spectral)')\n",
        "plt.ylabel('Frequency')\n",
        "plt.xlim(0,100000)\n",
        "plt.ylim(0,500)\n",
        "plt.show()\n",
        "\n",
        "ergas_spatial_list_f = filter(lambda num: num < np.percentile(ergas_spatial_list, 95), ergas_spatial_list)\n",
        "\n",
        "plt.hist(list(ergas_spatial_list_f), bins = 20, edgecolor = 'black', color = '#035a6e')\n",
        "plt.title(str(N) + ' PanColorGAN sharpened test images: ERGAS (Spatial Quality)')\n",
        "plt.xlabel('ERGAS (Spatial)')\n",
        "plt.ylabel('Frequency')\n",
        "plt.xlim(0,100000)\n",
        "plt.ylim(0,500)\n",
        "plt.show()\n",
        "\n",
        "plt.hist(sam_list, bins = 20, edgecolor = 'black', color = '#43751e')\n",
        "plt.title(str(N) + ' PanColorGAN sharpened test images: SAM (Spectral Distortion)')\n",
        "plt.xlabel('SAM (Spectral)')\n",
        "plt.ylabel('Frequency')\n",
        "plt.xlim(0,2.5)\n",
        "plt.ylim(0,1000)\n",
        "plt.show()"
      ],
      "metadata": {
        "id": "G_Gatdb1JwUA"
      },
      "execution_count": null,
      "outputs": []
    },
    {
      "cell_type": "code",
      "source": [
        ""
      ],
      "metadata": {
        "id": "GcU8a2Qk-los"
      },
      "execution_count": null,
      "outputs": []
    }
  ]
}